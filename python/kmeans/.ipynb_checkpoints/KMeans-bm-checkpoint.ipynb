{
 "cells": [
  {
   "cell_type": "markdown",
   "metadata": {},
   "source": [
    "## todo"
   ]
  },
  {
   "cell_type": "code",
   "execution_count": 104,
   "metadata": {
    "ExecuteTime": {
     "end_time": "2020-06-25T17:24:53.989103Z",
     "start_time": "2020-06-25T17:24:53.980688Z"
    }
   },
   "outputs": [],
   "source": [
    "%matplotlib inline\n",
    "import matplotlib.pyplot as plt\n",
    "import seaborn as sns; sns.set()  # for plot styling\n",
    "import numpy as np\n",
    "import pandas as pd"
   ]
  },
  {
   "cell_type": "code",
   "execution_count": 95,
   "metadata": {
    "ExecuteTime": {
     "end_time": "2020-06-25T17:15:52.901381Z",
     "start_time": "2020-06-25T17:15:52.893406Z"
    }
   },
   "outputs": [
    {
     "data": {
      "text/plain": [
       "0      1000.0\n",
       "1     10000.0\n",
       "2    100000.0\n",
       "Name: x, dtype: float64"
      ]
     },
     "execution_count": 95,
     "metadata": {},
     "output_type": "execute_result"
    }
   ],
   "source": [
    "chart['x']"
   ]
  },
  {
   "cell_type": "code",
   "execution_count": 121,
   "metadata": {
    "ExecuteTime": {
     "end_time": "2020-06-25T17:38:07.409004Z",
     "start_time": "2020-06-25T17:38:04.928798Z"
    }
   },
   "outputs": [
    {
     "name": "stdout",
     "output_type": "stream",
     "text": [
      "100.0\n",
      "CPU times: user 2.35 ms, sys: 311 µs, total: 2.66 ms\n",
      "Wall time: 2.25 ms\n",
      "CPU times: user 80.9 ms, sys: 31.8 ms, total: 113 ms\n",
      "Wall time: 100 ms\n",
      "1000.0\n",
      "CPU times: user 905 µs, sys: 2.43 ms, total: 3.34 ms\n",
      "Wall time: 2.65 ms\n",
      "CPU times: user 80.2 ms, sys: 110 µs, total: 80.3 ms\n",
      "Wall time: 79.7 ms\n",
      "10000.0\n",
      "CPU times: user 5.17 ms, sys: 1.08 ms, total: 6.25 ms\n",
      "Wall time: 5.9 ms\n",
      "CPU times: user 854 ms, sys: 1.4 s, total: 2.26 s\n",
      "Wall time: 191 ms\n",
      "40000.0\n",
      "CPU times: user 78.6 ms, sys: 138 ms, total: 216 ms\n",
      "Wall time: 18.1 ms\n",
      "CPU times: user 1.97 s, sys: 3.02 s, total: 4.99 s\n",
      "Wall time: 416 ms\n",
      "70000.0\n",
      "CPU times: user 128 ms, sys: 228 ms, total: 356 ms\n",
      "Wall time: 29.7 ms\n",
      "CPU times: user 3.01 s, sys: 4.56 s, total: 7.57 s\n",
      "Wall time: 632 ms\n",
      "100000.0\n",
      "CPU times: user 195 ms, sys: 307 ms, total: 502 ms\n",
      "Wall time: 41.9 ms\n",
      "CPU times: user 4.51 s, sys: 6.62 s, total: 11.1 s\n",
      "Wall time: 929 ms\n"
     ]
    }
   ],
   "source": [
    "CLUSTER_ALGO = 'KMeans'\n",
    "N_CLUSTERS = 10\n",
    "CLUSTERS_STD = 0.5\n",
    "N_P = 100000\n",
    "from sklearn.datasets.samples_generator import make_blobs\n",
    "from sklearn.datasets import load_iris\n",
    "chart = pd.DataFrame()\n",
    "chart['x'] = [100, 1e03, 1e04, 1e04*4, 1e04*7, 1e05]\n",
    "for N_P in chart['x']:\n",
    "    print(N_P)\n",
    "    \n",
    "    %time X, y_true = make_blobs(n_samples=int(N_P), centers=N_CLUSTERS,cluster_std=CLUSTERS_STD,random_state=0)\n",
    "    %time km()\n",
    "\n",
    "# plt.scatter(X[:, 0], X[:, 1], s=50);\n"
   ]
  },
  {
   "cell_type": "code",
   "execution_count": 62,
   "metadata": {
    "ExecuteTime": {
     "end_time": "2020-06-25T15:56:15.300256Z",
     "start_time": "2020-06-25T15:56:15.294705Z"
    }
   },
   "outputs": [],
   "source": [
    "from sklearn.cluster import KMeans\n",
    "def km():\n",
    "    kmeans = KMeans(n_clusters=N_CLUSTERS)\n",
    "    kmeans.fit(X)\n",
    "    y_kmeans = kmeans.predict(X)"
   ]
  },
  {
   "cell_type": "code",
   "execution_count": 127,
   "metadata": {
    "ExecuteTime": {
     "end_time": "2020-06-25T17:48:10.703258Z",
     "start_time": "2020-06-25T17:48:09.490982Z"
    }
   },
   "outputs": [
    {
     "data": {
      "text/html": [
       "<div>\n",
       "<style scoped>\n",
       "    .dataframe tbody tr th:only-of-type {\n",
       "        vertical-align: middle;\n",
       "    }\n",
       "\n",
       "    .dataframe tbody tr th {\n",
       "        vertical-align: top;\n",
       "    }\n",
       "\n",
       "    .dataframe thead th {\n",
       "        text-align: right;\n",
       "    }\n",
       "</style>\n",
       "<table border=\"1\" class=\"dataframe\">\n",
       "  <thead>\n",
       "    <tr style=\"text-align: right;\">\n",
       "      <th></th>\n",
       "      <th>n_p</th>\n",
       "      <th>Time</th>\n",
       "      <th>Language</th>\n",
       "    </tr>\n",
       "  </thead>\n",
       "  <tbody>\n",
       "    <tr>\n",
       "      <th>0</th>\n",
       "      <td>100.0</td>\n",
       "      <td>2.25</td>\n",
       "      <td>Python</td>\n",
       "    </tr>\n",
       "    <tr>\n",
       "      <th>1</th>\n",
       "      <td>1000.0</td>\n",
       "      <td>79.30</td>\n",
       "      <td>Python</td>\n",
       "    </tr>\n",
       "    <tr>\n",
       "      <th>2</th>\n",
       "      <td>10000.0</td>\n",
       "      <td>176.00</td>\n",
       "      <td>Python</td>\n",
       "    </tr>\n",
       "    <tr>\n",
       "      <th>3</th>\n",
       "      <td>40000.0</td>\n",
       "      <td>410.00</td>\n",
       "      <td>Python</td>\n",
       "    </tr>\n",
       "    <tr>\n",
       "      <th>4</th>\n",
       "      <td>70000.0</td>\n",
       "      <td>722.00</td>\n",
       "      <td>Python</td>\n",
       "    </tr>\n",
       "    <tr>\n",
       "      <th>5</th>\n",
       "      <td>100.0</td>\n",
       "      <td>1.57</td>\n",
       "      <td>GoLang</td>\n",
       "    </tr>\n",
       "    <tr>\n",
       "      <th>6</th>\n",
       "      <td>1000.0</td>\n",
       "      <td>9.40</td>\n",
       "      <td>GoLang</td>\n",
       "    </tr>\n",
       "    <tr>\n",
       "      <th>7</th>\n",
       "      <td>10000.0</td>\n",
       "      <td>138.00</td>\n",
       "      <td>GoLang</td>\n",
       "    </tr>\n",
       "    <tr>\n",
       "      <th>8</th>\n",
       "      <td>40000.0</td>\n",
       "      <td>1400.00</td>\n",
       "      <td>GoLang</td>\n",
       "    </tr>\n",
       "    <tr>\n",
       "      <th>9</th>\n",
       "      <td>70000.0</td>\n",
       "      <td>2100.00</td>\n",
       "      <td>GoLang</td>\n",
       "    </tr>\n",
       "  </tbody>\n",
       "</table>\n",
       "</div>"
      ],
      "text/plain": [
       "       n_p     Time Language\n",
       "0    100.0     2.25   Python\n",
       "1   1000.0    79.30   Python\n",
       "2  10000.0   176.00   Python\n",
       "3  40000.0   410.00   Python\n",
       "4  70000.0   722.00   Python\n",
       "5    100.0     1.57   GoLang\n",
       "6   1000.0     9.40   GoLang\n",
       "7  10000.0   138.00   GoLang\n",
       "8  40000.0  1400.00   GoLang\n",
       "9  70000.0  2100.00   GoLang"
      ]
     },
     "execution_count": 127,
     "metadata": {},
     "output_type": "execute_result"
    },
    {
     "data": {
      "image/png": "[encoded data removed]",
      "text/plain": [
       "<Figure size 513.725x432 with 1 Axes>"
      ]
     },
     "metadata": {},
     "output_type": "display_data"
    }
   ],
   "source": [
    "chart = pd.DataFrame()\n",
    "chart['n_p'] = [100, 1e03, 1e04, 1e04*4, 1e04*7]*2\n",
    "chart['Time'] = [2.25, 79.3, 176, 410, 722,  1.57, 9.4, 138 , 1400, 2100 ]\n",
    "chart['Language'] = ['Python']*5 +['GoLang'\n",
    "]*5\n",
    "# markers=[\"o\", \"x\"]\n",
    "sns.lmplot(x=\"n_p\", y=\"Time\", hue=\"Language\",  markers=[\"o\", \"x\"], data=chart,  scatter=True,\n",
    "           fit_reg=True,logx=False, height=6, aspect=1, palette=\"Set1\");chart"
   ]
  },
  {
   "cell_type": "code",
   "execution_count": 102,
   "metadata": {
    "ExecuteTime": {
     "end_time": "2020-06-25T17:22:39.165349Z",
     "start_time": "2020-06-25T17:22:38.768943Z"
    }
   },
   "outputs": [
    {
     "data": {
      "text/plain": [
       "<matplotlib.collections.PathCollection at 0x7f9a709bc1d0>"
      ]
     },
     "execution_count": 102,
     "metadata": {},
     "output_type": "execute_result"
    },
    {
     "data": {
      "image/png": "[encoded data removed]",
      "text/plain": [
       "<Figure size 432x288 with 1 Axes>"
      ]
     },
     "metadata": {},
     "output_type": "display_data"
    }
   ],
   "source": [
    "plt.scatter(chart['x'], chart['y'], c=chart['z'], s=50, cmap='Set1')\n"
   ]
  },
  {
   "cell_type": "code",
   "execution_count": 100,
   "metadata": {
    "ExecuteTime": {
     "end_time": "2020-06-25T17:21:15.099035Z",
     "start_time": "2020-06-25T17:21:14.685932Z"
    }
   },
   "outputs": [
    {
     "data": {
      "image/png": "[encoded data removed]",
      "text/plain": [
       "<Figure size 432x288 with 1 Axes>"
      ]
     },
     "metadata": {},
     "output_type": "display_data"
    }
   ],
   "source": [
    "plt.scatter(chart['x'], chart['y'], c=chart['z'], s=50, cmap='viridis')\n",
    "\n",
    "centers = kmeans.cluster_centers_\n",
    "plt.scatter(centers[:, 0], centers[:, 1], c='black', s=200, alpha=0.5);"
   ]
  },
  {
   "cell_type": "code",
   "execution_count": 7,
   "metadata": {
    "ExecuteTime": {
     "end_time": "2020-06-22T23:04:48.468340Z",
     "start_time": "2020-06-22T23:04:48.462635Z"
    }
   },
   "outputs": [
    {
     "ename": "SyntaxError",
     "evalue": "invalid syntax (<ipython-input-7-b9db49d6dd43>, line 1)",
     "output_type": "error",
     "traceback": [
      "\u001b[0;36m  File \u001b[0;32m\"<ipython-input-7-b9db49d6dd43>\"\u001b[0;36m, line \u001b[0;32m1\u001b[0m\n\u001b[0;31m    *-+\u001b[0m\n\u001b[0m       ^\u001b[0m\n\u001b[0;31mSyntaxError\u001b[0m\u001b[0;31m:\u001b[0m invalid syntax\n"
     ]
    }
   ],
   "source": [
    "\n",
    "*-+\n",
    "*+-=END"
   ]
  },
  {
   "cell_type": "code",
   "execution_count": 55,
   "metadata": {
    "ExecuteTime": {
     "end_time": "2020-06-25T15:46:12.889988Z",
     "start_time": "2020-06-25T15:46:12.878628Z"
    }
   },
   "outputs": [
    {
     "name": "stdout",
     "output_type": "stream",
     "text": [
      "1000.0\n",
      "100000.0\n",
      "100000.0\n",
      "1000000.0\n"
     ]
    }
   ],
   "source": [
    "\n",
    "\n"
   ]
  },
  {
   "cell_type": "code",
   "execution_count": null,
   "metadata": {},
   "outputs": [],
   "source": []
  },
  {
   "cell_type": "code",
   "execution_count": null,
   "metadata": {},
   "outputs": [],
   "source": []
  },
  {
   "cell_type": "code",
   "execution_count": null,
   "metadata": {},
   "outputs": [],
   "source": []
  }
 ],
 "metadata": {
  "kernelspec": {
   "display_name": "Python 3",
   "language": "python",
   "name": "python3"
  },
  "language_info": {
   "codemirror_mode": {
    "name": "ipython",
    "version": 3
   },
   "file_extension": ".py",
   "mimetype": "text/x-python",
   "name": "python",
   "nbconvert_exporter": "python",
   "pygments_lexer": "ipython3",
   "version": "3.7.6"
  },
  "toc": {
   "base_numbering": 1,
   "nav_menu": {},
   "number_sections": true,
   "sideBar": true,
   "skip_h1_title": false,
   "title_cell": "Table of Contents",
   "title_sidebar": "Contents",
   "toc_cell": false,
   "toc_position": {
    "height": "calc(100% - 180px)",
    "left": "10px",
    "top": "150px",
    "width": "218px"
   },
   "toc_section_display": true,
   "toc_window_display": false
  }
 },
 "nbformat": 4,
 "nbformat_minor": 4
}
